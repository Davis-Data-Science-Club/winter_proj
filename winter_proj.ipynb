{
 "cells": [
  {
   "cell_type": "markdown",
   "metadata": {},
   "source": [
    "This is Mason's Notebook for the Winter Project "
   ]
  },
  {
   "cell_type": "code",
   "execution_count": 1,
   "metadata": {},
   "outputs": [],
   "source": [
    "import json\n",
    "import pandas as pd\n",
    "import numpy as np\n",
    "import seaborn as sns\n",
    "import matplotlib.pyplot as plt\n",
    "from bs4 import BeautifulSoup\n",
    "import requests\n"
   ]
  },
  {
   "cell_type": "code",
   "execution_count": 2,
   "metadata": {},
   "outputs": [],
   "source": [
    "html_text = requests.get('https://housing.ucdavis.edu/dining/menus/dining-commons/tercero/').text"
   ]
  },
  {
   "cell_type": "code",
   "execution_count": 3,
   "metadata": {},
   "outputs": [],
   "source": [
    "soup = BeautifulSoup(html_text, 'lxml')\n",
    "foodList= []\n",
    "for EachPart in soup.select('li[class*= \"trigger\"]' ):\n",
    "    foodList.append(EachPart.get_text().partition('\\n')[0])"
   ]
  },
  {
   "cell_type": "code",
   "execution_count": 4,
   "metadata": {},
   "outputs": [
    {
     "data": {
      "text/plain": [
       "403"
      ]
     },
     "execution_count": 4,
     "metadata": {},
     "output_type": "execute_result"
    }
   ],
   "source": [
    "len(foodList)"
   ]
  },
  {
   "cell_type": "code",
   "execution_count": 5,
   "metadata": {},
   "outputs": [
    {
     "data": {
      "text/plain": [
       "'Traditional pork sausage with a touch of fennel and black pepper'"
      ]
     },
     "execution_count": 5,
     "metadata": {},
     "output_type": "execute_result"
    }
   ],
   "source": [
    "soup.find('ul', class_='nutrition').find('p').get_text()\n"
   ]
  },
  {
   "cell_type": "code",
   "execution_count": 6,
   "metadata": {},
   "outputs": [],
   "source": [
    "descriptionList = []\n",
    "for EachPart in soup.select('ul[class= \"nutrition\"]' ):\n",
    "    descriptionList.append(EachPart.find('p').get_text().partition('\\n')[0])"
   ]
  },
  {
   "cell_type": "code",
   "execution_count": 7,
   "metadata": {},
   "outputs": [],
   "source": [
    "caloriesList = []\n",
    "for EachPart in soup.select('ul[class= \"nutrition\"]' ):\n",
    "    for i in EachPart.select('p:nth-child(4)'):\n",
    "        caloriesList.append(i.text[2:])"
   ]
  },
  {
   "cell_type": "code",
   "execution_count": 8,
   "metadata": {},
   "outputs": [
    {
     "data": {
      "text/plain": [
       "403"
      ]
     },
     "execution_count": 8,
     "metadata": {},
     "output_type": "execute_result"
    }
   ],
   "source": [
    "len(caloriesList)"
   ]
  },
  {
   "cell_type": "code",
   "execution_count": 9,
   "metadata": {},
   "outputs": [],
   "source": [
    "fatList = []\n",
    "for EachPart in soup.select('ul[class= \"nutrition\"]' ):\n",
    "    for i in EachPart.select('p:nth-child(6)'):\n",
    "        fatList.append(i.text[2:])"
   ]
  },
  {
   "cell_type": "code",
   "execution_count": 10,
   "metadata": {},
   "outputs": [],
   "source": [
    "carbList = []\n",
    "for EachPart in soup.select('ul[class= \"nutrition\"]' ):\n",
    "    for i in EachPart.select('p:nth-child(8)'):\n",
    "        carbList.append(i.text[2:])"
   ]
  },
  {
   "cell_type": "code",
   "execution_count": 11,
   "metadata": {},
   "outputs": [],
   "source": [
    "proteinList = []\n",
    "for EachPart in soup.select('ul[class= \"nutrition\"]' ):\n",
    "    for i in EachPart.select('p:nth-child(10)'):\n",
    "        proteinList.append((i.text[2:]))"
   ]
  },
  {
   "cell_type": "code",
   "execution_count": 12,
   "metadata": {},
   "outputs": [],
   "source": [
    "allergensList = []\n",
    "for EachPart in soup.select('ul[class= \"nutrition\"]'):\n",
    "    if(EachPart.select('p:nth-child(12)')):\n",
    "        for i in EachPart.select('p:nth-child(12)'):\n",
    "            allergensList.append(i.text[0:])\n",
    "    else:\n",
    "        allergensList.append(None)\n",
    "# there is no \": \" before the text, hence start from 0th char"
   ]
  },
  {
   "cell_type": "code",
   "execution_count": 13,
   "metadata": {},
   "outputs": [
    {
     "data": {
      "text/plain": [
       "403"
      ]
     },
     "execution_count": 13,
     "metadata": {},
     "output_type": "execute_result"
    }
   ],
   "source": [
    "len(allergensList)"
   ]
  },
  {
   "cell_type": "code",
   "execution_count": 14,
   "metadata": {},
   "outputs": [],
   "source": [
    "ingredientsList = []\n",
    "for EachPart in soup.select('ul[class= \"nutrition\"]'):\n",
    "    if(EachPart.select('p:nth-child(14)')):\n",
    "        for i in EachPart.select('p:nth-child(14)'):\n",
    "            ingredientsList.append(i.text[0:])\n",
    "    else:\n",
    "        ingredientsList.append(None)"
   ]
  },
  {
   "cell_type": "code",
   "execution_count": 15,
   "metadata": {},
   "outputs": [],
   "source": [
    "# dayList = []\n",
    "# for EachPart in soup.select()"
   ]
  },
  {
   "cell_type": "code",
   "execution_count": 16,
   "metadata": {},
   "outputs": [],
   "source": [
    "# divs = soup.find_all('h4')\n",
    "# print (divs)"
   ]
  },
  {
   "cell_type": "code",
   "execution_count": 17,
   "metadata": {},
   "outputs": [],
   "source": [
    "mealTimeList = []\n",
    "for EachPart in soup.select('u1[class = \"tabsList\"]'):\n",
    "    if(EachPart.select('h:nth-child(1)')):\n",
    "        for i in EachPart.select('h:nth-child(1)'):\n",
    "            mealTimeList.append(i.text[:])\n",
    "    else:\n",
    "        mealTimeList.append(None)"
   ]
  },
  {
   "cell_type": "code",
   "execution_count": 18,
   "metadata": {},
   "outputs": [],
   "source": [
    "servingList = []\n",
    "for EachPart in soup.select('ul[class= \"nutrition\"]' ):\n",
    "    for i in EachPart.select('p:nth-child(2)'):\n",
    "        servingList.append(i.text[2:])"
   ]
  },
  {
   "cell_type": "code",
   "execution_count": 19,
   "metadata": {},
   "outputs": [],
   "source": [
    "def stringtoFloat(x):\n",
    "    for i in range(len(x)):\n",
    "        if x[i] == 'N/A':\n",
    "            x[i] = np.nan\n",
    "        else:\n",
    "            x[i]=float(x[i])\n",
    "    return x"
   ]
  },
  {
   "cell_type": "code",
   "execution_count": 20,
   "metadata": {
    "scrolled": true
   },
   "outputs": [],
   "source": [
    "caloriesList = stringtoFloat(caloriesList)\n",
    "fatList = stringtoFloat(fatList)\n",
    "carbList = stringtoFloat(carbList)\n",
    "proteinList = stringtoFloat(proteinList)"
   ]
  },
  {
   "cell_type": "code",
   "execution_count": 21,
   "metadata": {},
   "outputs": [],
   "source": [
    "d = {'Food':foodList, 'Servings':servingList, 'Description':descriptionList, 'Ingredients':ingredientsList, 'Calories':caloriesList, 'Fat':fatList, 'Protein':proteinList, 'Carbs':carbList, 'Allergens':allergensList}\n",
    "Tercero = pd.DataFrame(d)\n"
   ]
  },
  {
   "cell_type": "code",
   "execution_count": 22,
   "metadata": {},
   "outputs": [
    {
     "data": {
      "text/html": [
       "<div>\n",
       "<style scoped>\n",
       "    .dataframe tbody tr th:only-of-type {\n",
       "        vertical-align: middle;\n",
       "    }\n",
       "\n",
       "    .dataframe tbody tr th {\n",
       "        vertical-align: top;\n",
       "    }\n",
       "\n",
       "    .dataframe thead th {\n",
       "        text-align: right;\n",
       "    }\n",
       "</style>\n",
       "<table border=\"1\" class=\"dataframe\">\n",
       "  <thead>\n",
       "    <tr style=\"text-align: right;\">\n",
       "      <th></th>\n",
       "      <th>Food</th>\n",
       "      <th>Servings</th>\n",
       "      <th>Description</th>\n",
       "      <th>Ingredients</th>\n",
       "      <th>Calories</th>\n",
       "      <th>Fat</th>\n",
       "      <th>Protein</th>\n",
       "      <th>Carbs</th>\n",
       "      <th>Allergens</th>\n",
       "    </tr>\n",
       "  </thead>\n",
       "  <tbody>\n",
       "    <tr>\n",
       "      <th>0</th>\n",
       "      <td>Pork Link Sausage</td>\n",
       "      <td>3 oz</td>\n",
       "      <td>Traditional pork sausage with a touch of fenne...</td>\n",
       "      <td>None</td>\n",
       "      <td>335.44</td>\n",
       "      <td>32.15</td>\n",
       "      <td>8.38</td>\n",
       "      <td>1.40</td>\n",
       "      <td>None</td>\n",
       "    </tr>\n",
       "    <tr>\n",
       "      <th>1</th>\n",
       "      <td>Scrambled Eggs</td>\n",
       "      <td>3 oz</td>\n",
       "      <td>Softly scrambled cage-free eggs</td>\n",
       "      <td>Cage-free eggs, canola oil</td>\n",
       "      <td>129.10</td>\n",
       "      <td>8.77</td>\n",
       "      <td>10.89</td>\n",
       "      <td>0.00</td>\n",
       "      <td>Egg</td>\n",
       "    </tr>\n",
       "    <tr>\n",
       "      <th>2</th>\n",
       "      <td>Sticky Rice</td>\n",
       "      <td>1/2 cup (3 oz)</td>\n",
       "      <td>Steamed white calrose rice</td>\n",
       "      <td>None</td>\n",
       "      <td>161.70</td>\n",
       "      <td>0.26</td>\n",
       "      <td>2.97</td>\n",
       "      <td>35.64</td>\n",
       "      <td>None</td>\n",
       "    </tr>\n",
       "    <tr>\n",
       "      <th>3</th>\n",
       "      <td>Scrambled Egg Whites</td>\n",
       "      <td>3.5 oz</td>\n",
       "      <td>: 3.5 oz</td>\n",
       "      <td>Cage-free egg whites, canola oil</td>\n",
       "      <td>95.10</td>\n",
       "      <td>5.18</td>\n",
       "      <td>10.15</td>\n",
       "      <td>0.78</td>\n",
       "      <td>Egg</td>\n",
       "    </tr>\n",
       "    <tr>\n",
       "      <th>4</th>\n",
       "      <td>Tofu Scramble</td>\n",
       "      <td>3 oz</td>\n",
       "      <td>Scrambled firm tofu cooked with onions, bell p...</td>\n",
       "      <td>Organic firm tofu (contains soy), yellow onion...</td>\n",
       "      <td>72.17</td>\n",
       "      <td>4.54</td>\n",
       "      <td>5.95</td>\n",
       "      <td>3.36</td>\n",
       "      <td>Soy/Gluten/Wheat</td>\n",
       "    </tr>\n",
       "    <tr>\n",
       "      <th>...</th>\n",
       "      <td>...</td>\n",
       "      <td>...</td>\n",
       "      <td>...</td>\n",
       "      <td>...</td>\n",
       "      <td>...</td>\n",
       "      <td>...</td>\n",
       "      <td>...</td>\n",
       "      <td>...</td>\n",
       "      <td>...</td>\n",
       "    </tr>\n",
       "    <tr>\n",
       "      <th>398</th>\n",
       "      <td>Pisto Spread</td>\n",
       "      <td>2 Tablespoons</td>\n",
       "      <td>Made with tomatoes, eggplant, and bell peppers</td>\n",
       "      <td>None</td>\n",
       "      <td>17.94</td>\n",
       "      <td>1.16</td>\n",
       "      <td>0.29</td>\n",
       "      <td>1.83</td>\n",
       "      <td>None</td>\n",
       "    </tr>\n",
       "    <tr>\n",
       "      <th>399</th>\n",
       "      <td>Tomato Phesto with Walnuts</td>\n",
       "      <td>2 Tablespoons</td>\n",
       "      <td>Tangy tomato sauce featuring Russel Ranch toma...</td>\n",
       "      <td>Canola/olive oil blend, house-made halal roast...</td>\n",
       "      <td>79.18</td>\n",
       "      <td>8.06</td>\n",
       "      <td>0.59</td>\n",
       "      <td>2.31</td>\n",
       "      <td>Tree Nuts</td>\n",
       "    </tr>\n",
       "    <tr>\n",
       "      <th>400</th>\n",
       "      <td>Toffee Sticky Pudding Cake</td>\n",
       "      <td>1 SV</td>\n",
       "      <td>May contain peanuts and tree nuts</td>\n",
       "      <td>Toffee sauce (glucose, cream, sugar, salted bu...</td>\n",
       "      <td>241.92</td>\n",
       "      <td>10.08</td>\n",
       "      <td>3.03</td>\n",
       "      <td>35.28</td>\n",
       "      <td>Dairy/Egg/Gluten/Soy/Wheat</td>\n",
       "    </tr>\n",
       "    <tr>\n",
       "      <th>401</th>\n",
       "      <td>Chocolate Chip Cookie</td>\n",
       "      <td>1 EA</td>\n",
       "      <td>Produced in a facility that also uses dairy, e...</td>\n",
       "      <td>Enriched bleached flour (wheat flour, niacin, ...</td>\n",
       "      <td>400.00</td>\n",
       "      <td>19.00</td>\n",
       "      <td>4.00</td>\n",
       "      <td>55.00</td>\n",
       "      <td>Alcohol [vanilla extract]/Dairy/Egg/Gluten/Soy...</td>\n",
       "    </tr>\n",
       "    <tr>\n",
       "      <th>402</th>\n",
       "      <td>Vegan Oatmeal Raisin Cookie</td>\n",
       "      <td>1 cookie</td>\n",
       "      <td>: 1 cookie</td>\n",
       "      <td>Oatmeal, organic evaporated cane sugar, Califo...</td>\n",
       "      <td>177.00</td>\n",
       "      <td>6.10</td>\n",
       "      <td>3.00</td>\n",
       "      <td>41.00</td>\n",
       "      <td>Alcohol [vanilla extract]/Gluten/Wheat</td>\n",
       "    </tr>\n",
       "  </tbody>\n",
       "</table>\n",
       "<p>403 rows × 9 columns</p>\n",
       "</div>"
      ],
      "text/plain": [
       "                            Food        Servings  \\\n",
       "0              Pork Link Sausage            3 oz   \n",
       "1                 Scrambled Eggs            3 oz   \n",
       "2                    Sticky Rice  1/2 cup (3 oz)   \n",
       "3           Scrambled Egg Whites          3.5 oz   \n",
       "4                  Tofu Scramble            3 oz   \n",
       "..                           ...             ...   \n",
       "398                 Pisto Spread   2 Tablespoons   \n",
       "399   Tomato Phesto with Walnuts   2 Tablespoons   \n",
       "400   Toffee Sticky Pudding Cake            1 SV   \n",
       "401        Chocolate Chip Cookie            1 EA   \n",
       "402  Vegan Oatmeal Raisin Cookie        1 cookie   \n",
       "\n",
       "                                           Description  \\\n",
       "0    Traditional pork sausage with a touch of fenne...   \n",
       "1                      Softly scrambled cage-free eggs   \n",
       "2                           Steamed white calrose rice   \n",
       "3                                             : 3.5 oz   \n",
       "4    Scrambled firm tofu cooked with onions, bell p...   \n",
       "..                                                 ...   \n",
       "398     Made with tomatoes, eggplant, and bell peppers   \n",
       "399  Tangy tomato sauce featuring Russel Ranch toma...   \n",
       "400                  May contain peanuts and tree nuts   \n",
       "401  Produced in a facility that also uses dairy, e...   \n",
       "402                                         : 1 cookie   \n",
       "\n",
       "                                           Ingredients  Calories    Fat  \\\n",
       "0                                                 None    335.44  32.15   \n",
       "1                           Cage-free eggs, canola oil    129.10   8.77   \n",
       "2                                                 None    161.70   0.26   \n",
       "3                     Cage-free egg whites, canola oil     95.10   5.18   \n",
       "4    Organic firm tofu (contains soy), yellow onion...     72.17   4.54   \n",
       "..                                                 ...       ...    ...   \n",
       "398                                               None     17.94   1.16   \n",
       "399  Canola/olive oil blend, house-made halal roast...     79.18   8.06   \n",
       "400  Toffee sauce (glucose, cream, sugar, salted bu...    241.92  10.08   \n",
       "401  Enriched bleached flour (wheat flour, niacin, ...    400.00  19.00   \n",
       "402  Oatmeal, organic evaporated cane sugar, Califo...    177.00   6.10   \n",
       "\n",
       "     Protein  Carbs                                          Allergens  \n",
       "0       8.38   1.40                                               None  \n",
       "1      10.89   0.00                                                Egg  \n",
       "2       2.97  35.64                                               None  \n",
       "3      10.15   0.78                                                Egg  \n",
       "4       5.95   3.36                                   Soy/Gluten/Wheat  \n",
       "..       ...    ...                                                ...  \n",
       "398     0.29   1.83                                               None  \n",
       "399     0.59   2.31                                          Tree Nuts  \n",
       "400     3.03  35.28                         Dairy/Egg/Gluten/Soy/Wheat  \n",
       "401     4.00  55.00  Alcohol [vanilla extract]/Dairy/Egg/Gluten/Soy...  \n",
       "402     3.00  41.00             Alcohol [vanilla extract]/Gluten/Wheat  \n",
       "\n",
       "[403 rows x 9 columns]"
      ]
     },
     "execution_count": 22,
     "metadata": {},
     "output_type": "execute_result"
    }
   ],
   "source": [
    "Tercero"
   ]
  },
  {
   "cell_type": "code",
   "execution_count": 23,
   "metadata": {},
   "outputs": [],
   "source": [
    "# Calorie Calculator\n",
    "# calorieCalc = Tercero.groupby(['Food', 'Calories'])\n",
    "# calorieCalc"
   ]
  },
  {
   "cell_type": "code",
   "execution_count": 24,
   "metadata": {},
   "outputs": [],
   "source": [
    "Tercero.to_csv('TerceroMeal.csv')"
   ]
  },
  {
   "cell_type": "code",
   "execution_count": 25,
   "metadata": {},
   "outputs": [
    {
     "data": {
      "text/plain": [
       "296"
      ]
     },
     "execution_count": 25,
     "metadata": {},
     "output_type": "execute_result"
    }
   ],
   "source": [
    "Tercero['Calories'].idxmax()"
   ]
  },
  {
   "cell_type": "code",
   "execution_count": 30,
   "metadata": {},
   "outputs": [
    {
     "data": {
      "image/png": "[encoded data removed]",
      "text/plain": [
       "<Figure size 360x360 with 1 Axes>"
      ]
     },
     "metadata": {
      "needs_background": "light"
     },
     "output_type": "display_data"
    }
   ],
   "source": [
    "calorieDist = sns.displot(Tercero['Calories'], kde=False, bins = 100)\n",
    "calorieDist.set(xlim=(0, 1500))\n",
    "plt.show()\n",
    "\n",
    "# add: hue = 'Time'  | to differentiate meals between breakfast, lunch, and dinner"
   ]
  },
  {
   "cell_type": "code",
   "execution_count": 34,
   "metadata": {},
   "outputs": [
    {
     "data": {
      "image/png": "[encoded data removed]",
      "text/plain": [
       "<Figure size 432x288 with 1 Axes>"
      ]
     },
     "metadata": {
      "needs_background": "light"
     },
     "output_type": "display_data"
    }
   ],
   "source": [
    "fatVsCalories = sns.lineplot(x=Tercero['Calories'], y=Tercero['Fat'], data = Tercero)\n",
    "fatVsCalories.set(xlim=(0, 1500) , ylim=(0,100))\n",
    "plt.show()"
   ]
  },
  {
   "cell_type": "code",
   "execution_count": 39,
   "metadata": {},
   "outputs": [
    {
     "data": {
      "image/png": "[encoded data removed]",
      "text/plain": [
       "<Figure size 432x288 with 1 Axes>"
      ]
     },
     "metadata": {
      "needs_background": "light"
     },
     "output_type": "display_data"
    }
   ],
   "source": [
    "carbsVsCalories = sns.lineplot(x=Tercero['Calories'], y=Tercero['Carbs'], data = Tercero)\n",
    "carbsVsCalories.set(xlim=(0, 1500) , ylim=(0,200))\n",
    "plt.show()"
   ]
  },
  {
   "cell_type": "code",
   "execution_count": 54,
   "metadata": {},
   "outputs": [],
   "source": [
    "def calc_ratio (x, y):\n",
    "    if y <= 0:\n",
    "        y = None\n",
    "        return None\n",
    "    return (x / y)\n",
    "\n",
    "# apply_CalCarbs\n",
    "# Tercero\n"
   ]
  },
  {
   "cell_type": "code",
   "execution_count": 60,
   "metadata": {},
   "outputs": [],
   "source": [
    "apply_CalCarbs = Tercero.apply (\n",
    "    lambda x: calc_ratio(x['Carbs'], x['Calories']), axis=1)\n",
    "Tercero['CalCarbs'] = apply_CalCarbs\n",
    "\n",
    "apply_CalFat = Tercero.apply (\n",
    "    lambda x: calc_ratio(x['Fat'], x['Calories']), axis=1)\n",
    "Tercero['CalFat'] = apply_CalFat\n",
    "\n",
    "apply_CalPro = Tercero.apply (\n",
    "    lambda x: calc_ratio(x['Protein'], x['Calories']), axis=1)\n",
    "Tercero['CalPro'] = apply_CalPro\n"
   ]
  },
  {
   "cell_type": "code",
   "execution_count": 63,
   "metadata": {},
   "outputs": [
    {
     "data": {
      "image/png": "[encoded data removed]",
      "text/plain": [
       "<Figure size 432x288 with 1 Axes>"
      ]
     },
     "metadata": {
      "needs_background": "light"
     },
     "output_type": "display_data"
    }
   ],
   "source": [
    "CalCarbsGraph = sns.lineplot(x=Tercero['CalPro'], y=Tercero['CalCarbs'], data = Tercero)\n",
    "CalCarbsGraph.set(xlim=(0, 0.5) , ylim=(0,1))\n",
    "plt.show()"
   ]
  }
 ],
 "metadata": {
  "kernelspec": {
   "display_name": "Python 3 (ipykernel)",
   "language": "python",
   "name": "python3"
  },
  "language_info": {
   "codemirror_mode": {
    "name": "ipython",
    "version": 3
   },
   "file_extension": ".py",
   "mimetype": "text/x-python",
   "name": "python",
   "nbconvert_exporter": "python",
   "pygments_lexer": "ipython3",
   "version": "3.9.1"
  }
 },
 "nbformat": 4,
 "nbformat_minor": 4
}
