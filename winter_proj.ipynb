{
 "cells": [
  {
   "cell_type": "markdown",
   "metadata": {},
   "source": [
    "This is Mason's Notebook for the Winter Project "
   ]
  },
  {
   "cell_type": "code",
   "execution_count": 1,
   "metadata": {},
   "outputs": [],
   "source": [
    "import json\n",
    "import pandas as pd\n",
    "import numpy as np\n",
    "from bs4 import BeautifulSoup\n",
    "import requests\n"
   ]
  },
  {
   "cell_type": "code",
   "execution_count": 2,
   "metadata": {},
   "outputs": [],
   "source": [
    "html_text = requests.get('https://housing.ucdavis.edu/dining/menus/dining-commons/tercero/').text"
   ]
  },
  {
   "cell_type": "code",
   "execution_count": 3,
   "metadata": {},
   "outputs": [],
   "source": [
    "soup = BeautifulSoup(html_text, 'lxml')\n",
    "foodList= []\n",
    "for EachPart in soup.select('li[class*= \"trigger\"]' ):\n",
    "    foodList.append(EachPart.get_text().partition('\\n')[0])"
   ]
  },
  {
   "cell_type": "code",
   "execution_count": 4,
   "metadata": {},
   "outputs": [
    {
     "data": {
      "text/plain": [
       "431"
      ]
     },
     "execution_count": 4,
     "metadata": {},
     "output_type": "execute_result"
    }
   ],
   "source": [
    "len(foodList)"
   ]
  },
  {
   "cell_type": "code",
   "execution_count": 5,
   "metadata": {},
   "outputs": [
    {
     "data": {
      "text/plain": [
       "': 1 SV'"
      ]
     },
     "execution_count": 5,
     "metadata": {},
     "output_type": "execute_result"
    }
   ],
   "source": [
    "soup.find('ul', class_='nutrition').find('p').get_text()\n"
   ]
  },
  {
   "cell_type": "code",
   "execution_count": 54,
   "metadata": {},
   "outputs": [],
   "source": [
    "descriptionList = []\n",
    "for EachPart in soup.select('ul[class= \"nutrition\"]' ):\n",
    "    if(EachPart.select('p:nth-child(1)')):\n",
    "        for i in EachPart.select('p:nth-child(1)'):\n",
    "            descriptionList.append(i.text)\n",
    "    else:\n",
    "        descriptionList.append(None)"
   ]
  },
  {
   "cell_type": "code",
   "execution_count": 67,
   "metadata": {},
   "outputs": [],
   "source": [
    "servingList = []\n",
    "for EachPart in soup.select('ul[class= \"nutrition\"]' ):\n",
    "    for i in EachPart.select('p:nth-child(2)'):\n",
    "        servingList.append(i.text[2:])"
   ]
  },
  {
   "cell_type": "code",
   "execution_count": 68,
   "metadata": {},
   "outputs": [],
   "source": [
    "caloriesList = []\n",
    "for EachPart in soup.select('ul[class= \"nutrition\"]' ):\n",
    "    for i in EachPart.select('p:nth-child(4)'):\n",
    "        if i.text[2:] == \"-1\":\n",
    "            caloriesList.append(\"N/A\")\n",
    "        else:\n",
    "            caloriesList.append((i.text[2:]))"
   ]
  },
  {
   "cell_type": "code",
   "execution_count": 69,
   "metadata": {},
   "outputs": [],
   "source": [
    "fatList = []\n",
    "for EachPart in soup.select('ul[class= \"nutrition\"]' ):\n",
    "    for i in EachPart.select('p:nth-child(6)'):\n",
    "        if i.text[2:] == \"-1\":\n",
    "            fatList.append(\"N/A\")\n",
    "        else:\n",
    "            fatList.append((i.text[2:]))"
   ]
  },
  {
   "cell_type": "code",
   "execution_count": 70,
   "metadata": {},
   "outputs": [],
   "source": [
    "carbList = []\n",
    "for EachPart in soup.select('ul[class= \"nutrition\"]' ):\n",
    "    for i in EachPart.select('p:nth-child(8)'):\n",
    "        if i.text[2:] == \"-1\":\n",
    "            carbList.append(\"N/A\")\n",
    "        else:\n",
    "            carbList.append((i.text[2:]))"
   ]
  },
  {
   "cell_type": "code",
   "execution_count": 71,
   "metadata": {},
   "outputs": [],
   "source": [
    "proteinList = []\n",
    "for EachPart in soup.select('ul[class= \"nutrition\"]' ):\n",
    "    for i in EachPart.select('p:nth-child(10)'):\n",
    "        if i.text[2:] == \"-1\":\n",
    "            proteinList.append(\"N/A\")\n",
    "        else:\n",
    "            proteinList.append((i.text[2:]))"
   ]
  },
  {
   "cell_type": "code",
   "execution_count": 72,
   "metadata": {},
   "outputs": [],
   "source": [
    "allergensList = []\n",
    "for EachPart in soup.select('ul[class= \"nutrition\"]'):\n",
    "    if(EachPart.select('p:nth-child(12)')):\n",
    "        for i in EachPart.select('p:nth-child(12)'):\n",
    "            allergensList.append(i.text[0:])\n",
    "    else:\n",
    "        allergensList.append(None)"
   ]
  },
  {
   "cell_type": "code",
   "execution_count": 73,
   "metadata": {},
   "outputs": [],
   "source": [
    "ingredientsList = []\n",
    "for EachPart in soup.select('ul[class= \"nutrition\"]'):\n",
    "    if(EachPart.select('p:nth-child(14)')):\n",
    "        for i in EachPart.select('p:nth-child(14)'):\n",
    "            ingredientsList.append(i.text[0:])\n",
    "    else:\n",
    "        ingredientsList.append(None)"
   ]
  },
  {
   "cell_type": "code",
   "execution_count": 74,
   "metadata": {},
   "outputs": [],
   "source": [
    "def stringtoFloat(x):\n",
    "    for i in range(len(x)):\n",
    "        if x[i] == 'N/A':\n",
    "            x[i] = np.nan\n",
    "        else:\n",
    "            x[i]=float(x[i])\n",
    "    return x"
   ]
  },
  {
   "cell_type": "code",
   "execution_count": 75,
   "metadata": {
    "scrolled": true
   },
   "outputs": [],
   "source": [
    "caloriesList = stringtoFloat(caloriesList)\n",
    "fatList = stringtoFloat(fatList)\n",
    "carbList = stringtoFloat(carbList)\n",
    "proteinList = stringtoFloat(proteinList)"
   ]
  },
  {
   "cell_type": "code",
   "execution_count": 76,
   "metadata": {},
   "outputs": [],
   "source": [
    "d = {'Food':foodList,'Description':descriptionList,'Ingredients':ingredientsList, 'Calories':caloriesList, 'Fat':fatList, 'Protein':proteinList, 'Carbs':carbList, 'Serving Size':servingList}\n",
    "Tercero = pd.DataFrame(d)\n"
   ]
  },
  {
   "cell_type": "code",
   "execution_count": 44,
   "metadata": {},
   "outputs": [],
   "source": [
    "#Want to create a function to sort by columns and their values. (i.e. Calories, Fat, Keywords)"
   ]
  },
  {
   "cell_type": "code",
   "execution_count": 79,
   "metadata": {},
   "outputs": [
    {
     "data": {
      "text/html": [
       "<div>\n",
       "<style scoped>\n",
       "    .dataframe tbody tr th:only-of-type {\n",
       "        vertical-align: middle;\n",
       "    }\n",
       "\n",
       "    .dataframe tbody tr th {\n",
       "        vertical-align: top;\n",
       "    }\n",
       "\n",
       "    .dataframe thead th {\n",
       "        text-align: right;\n",
       "    }\n",
       "</style>\n",
       "<table border=\"1\" class=\"dataframe\">\n",
       "  <thead>\n",
       "    <tr style=\"text-align: right;\">\n",
       "      <th></th>\n",
       "      <th>Food</th>\n",
       "      <th>Description</th>\n",
       "      <th>Ingredients</th>\n",
       "      <th>Calories</th>\n",
       "      <th>Fat</th>\n",
       "      <th>Protein</th>\n",
       "      <th>Carbs</th>\n",
       "      <th>Serving Size</th>\n",
       "    </tr>\n",
       "  </thead>\n",
       "  <tbody>\n",
       "    <tr>\n",
       "      <th>30</th>\n",
       "      <td>Zhug</td>\n",
       "      <td>None</td>\n",
       "      <td>None</td>\n",
       "      <td>NaN</td>\n",
       "      <td>NaN</td>\n",
       "      <td>NaN</td>\n",
       "      <td>NaN</td>\n",
       "      <td>3 oz</td>\n",
       "    </tr>\n",
       "    <tr>\n",
       "      <th>31</th>\n",
       "      <td>House Roasted Salsa</td>\n",
       "      <td>Spicy chili peppers and Russell Ranch tomatoes...</td>\n",
       "      <td>Green Jalapeno pepper, yellow onion, Russel Ra...</td>\n",
       "      <td>10.15</td>\n",
       "      <td>0.40</td>\n",
       "      <td>0.32</td>\n",
       "      <td>1.60</td>\n",
       "      <td>2 tbsp</td>\n",
       "    </tr>\n",
       "    <tr>\n",
       "      <th>32</th>\n",
       "      <td>Hummus</td>\n",
       "      <td>Garbanzo beans blended with lemon juice</td>\n",
       "      <td>None</td>\n",
       "      <td>NaN</td>\n",
       "      <td>NaN</td>\n",
       "      <td>NaN</td>\n",
       "      <td>NaN</td>\n",
       "      <td>plate</td>\n",
       "    </tr>\n",
       "    <tr>\n",
       "      <th>33</th>\n",
       "      <td>Vanilla Chia Seed Pudding with Blueberrries</td>\n",
       "      <td>Vanilla chia seed pudding with blueberries, sh...</td>\n",
       "      <td>Coconut milk, chia seeds, beet sugar, imitatio...</td>\n",
       "      <td>448.82</td>\n",
       "      <td>41.51</td>\n",
       "      <td>5.24</td>\n",
       "      <td>20.46</td>\n",
       "      <td>1 serving</td>\n",
       "    </tr>\n",
       "    <tr>\n",
       "      <th>34</th>\n",
       "      <td>Beef Gryo</td>\n",
       "      <td>Sliced beef served on Pita bread with tomato, ...</td>\n",
       "      <td>Pita bread (enriched wheat flour [niacin, redu...</td>\n",
       "      <td>625.06</td>\n",
       "      <td>16.51</td>\n",
       "      <td>19.06</td>\n",
       "      <td>100.88</td>\n",
       "      <td>1 plate (about 8.8 oz)</td>\n",
       "    </tr>\n",
       "    <tr>\n",
       "      <th>35</th>\n",
       "      <td>Pork Carnitas Taco</td>\n",
       "      <td>Delicious pork tacos!</td>\n",
       "      <td>None</td>\n",
       "      <td>NaN</td>\n",
       "      <td>NaN</td>\n",
       "      <td>NaN</td>\n",
       "      <td>NaN</td>\n",
       "      <td>N/A</td>\n",
       "    </tr>\n",
       "    <tr>\n",
       "      <th>36</th>\n",
       "      <td>Cilantro Rice</td>\n",
       "      <td>Long grain white rice cooked with onion, cilan...</td>\n",
       "      <td>Long grain white rice, yellow onion, canola/ol...</td>\n",
       "      <td>111.35</td>\n",
       "      <td>2.96</td>\n",
       "      <td>1.82</td>\n",
       "      <td>19.22</td>\n",
       "      <td>1/2 cup</td>\n",
       "    </tr>\n",
       "    <tr>\n",
       "      <th>37</th>\n",
       "      <td>Vegetarian Refried Beans</td>\n",
       "      <td>Pinto beans simmered and mashed with garlic an...</td>\n",
       "      <td>Pinto beans (prepared pinto beans, water, salt...</td>\n",
       "      <td>80.59</td>\n",
       "      <td>0.06</td>\n",
       "      <td>5.62</td>\n",
       "      <td>16.88</td>\n",
       "      <td>3.5 oz</td>\n",
       "    </tr>\n",
       "    <tr>\n",
       "      <th>38</th>\n",
       "      <td>Dirty Chips</td>\n",
       "      <td>Cooked in a premium peanut oil</td>\n",
       "      <td>None</td>\n",
       "      <td>245.01</td>\n",
       "      <td>16.11</td>\n",
       "      <td>2.01</td>\n",
       "      <td>21.09</td>\n",
       "      <td>3 oz</td>\n",
       "    </tr>\n",
       "    <tr>\n",
       "      <th>39</th>\n",
       "      <td>Southwest Tofu</td>\n",
       "      <td>Marinated tofu simmered with black beans, onio...</td>\n",
       "      <td>None</td>\n",
       "      <td>NaN</td>\n",
       "      <td>NaN</td>\n",
       "      <td>NaN</td>\n",
       "      <td>NaN</td>\n",
       "      <td>N/A</td>\n",
       "    </tr>\n",
       "  </tbody>\n",
       "</table>\n",
       "</div>"
      ],
      "text/plain": [
       "                                           Food  \\\n",
       "30                                         Zhug   \n",
       "31                          House Roasted Salsa   \n",
       "32                                       Hummus   \n",
       "33  Vanilla Chia Seed Pudding with Blueberrries   \n",
       "34                                    Beef Gryo   \n",
       "35                           Pork Carnitas Taco   \n",
       "36                                Cilantro Rice   \n",
       "37                     Vegetarian Refried Beans   \n",
       "38                                  Dirty Chips   \n",
       "39                               Southwest Tofu   \n",
       "\n",
       "                                          Description  \\\n",
       "30                                               None   \n",
       "31  Spicy chili peppers and Russell Ranch tomatoes...   \n",
       "32            Garbanzo beans blended with lemon juice   \n",
       "33  Vanilla chia seed pudding with blueberries, sh...   \n",
       "34  Sliced beef served on Pita bread with tomato, ...   \n",
       "35                              Delicious pork tacos!   \n",
       "36  Long grain white rice cooked with onion, cilan...   \n",
       "37  Pinto beans simmered and mashed with garlic an...   \n",
       "38                     Cooked in a premium peanut oil   \n",
       "39  Marinated tofu simmered with black beans, onio...   \n",
       "\n",
       "                                          Ingredients  Calories    Fat  \\\n",
       "30                                               None       NaN    NaN   \n",
       "31  Green Jalapeno pepper, yellow onion, Russel Ra...     10.15   0.40   \n",
       "32                                               None       NaN    NaN   \n",
       "33  Coconut milk, chia seeds, beet sugar, imitatio...    448.82  41.51   \n",
       "34  Pita bread (enriched wheat flour [niacin, redu...    625.06  16.51   \n",
       "35                                               None       NaN    NaN   \n",
       "36  Long grain white rice, yellow onion, canola/ol...    111.35   2.96   \n",
       "37  Pinto beans (prepared pinto beans, water, salt...     80.59   0.06   \n",
       "38                                               None    245.01  16.11   \n",
       "39                                               None       NaN    NaN   \n",
       "\n",
       "    Protein   Carbs            Serving Size  \n",
       "30      NaN     NaN                    3 oz  \n",
       "31     0.32    1.60                  2 tbsp  \n",
       "32      NaN     NaN                   plate  \n",
       "33     5.24   20.46               1 serving  \n",
       "34    19.06  100.88  1 plate (about 8.8 oz)  \n",
       "35      NaN     NaN                     N/A  \n",
       "36     1.82   19.22                 1/2 cup  \n",
       "37     5.62   16.88                  3.5 oz  \n",
       "38     2.01   21.09                    3 oz  \n",
       "39      NaN     NaN                     N/A  "
      ]
     },
     "execution_count": 79,
     "metadata": {},
     "output_type": "execute_result"
    }
   ],
   "source": [
    "Tercero[30:40]"
   ]
  },
  {
   "cell_type": "code",
   "execution_count": 78,
   "metadata": {},
   "outputs": [],
   "source": [
    "import os    \n",
    "#jupyter notebook --allow-root\n",
    "Tercero.to_csv('TerceroV3.csv')   \n"
   ]
  }
 ],
 "metadata": {
  "kernelspec": {
   "display_name": "Python 3",
   "language": "python",
   "name": "python3"
  },
  "language_info": {
   "codemirror_mode": {
    "name": "ipython",
    "version": 3
   },
   "file_extension": ".py",
   "mimetype": "text/x-python",
   "name": "python",
   "nbconvert_exporter": "python",
   "pygments_lexer": "ipython3",
   "version": "3.8.8"
  }
 },
 "nbformat": 4,
 "nbformat_minor": 4
}
