{
 "cells": [
  {
   "cell_type": "markdown",
   "metadata": {},
   "source": [
    "This is Mason's Notebook for the Winter Project "
   ]
  },
  {
   "cell_type": "code",
   "execution_count": 1,
   "metadata": {},
   "outputs": [],
   "source": [
    "import json\n",
    "import pandas as pd\n",
    "import numpy as np\n",
    "from bs4 import BeautifulSoup\n",
    "import requests\n"
   ]
  },
  {
   "cell_type": "code",
   "execution_count": 2,
   "metadata": {},
   "outputs": [],
   "source": [
    "html_text = requests.get('https://housing.ucdavis.edu/dining/menus/dining-commons/tercero/').text"
   ]
  },
  {
   "cell_type": "code",
   "execution_count": 3,
   "metadata": {},
   "outputs": [],
   "source": [
    "soup = BeautifulSoup(html_text, 'lxml')\n",
    "foodList= []\n",
    "for EachPart in soup.select('li[class*= \"trigger\"]' ):\n",
    "    foodList.append(EachPart.get_text().partition('\\n')[0])"
   ]
  },
  {
   "cell_type": "code",
   "execution_count": 31,
   "metadata": {},
   "outputs": [
    {
     "data": {
      "text/plain": [
       "431"
      ]
     },
     "execution_count": 31,
     "metadata": {},
     "output_type": "execute_result"
    }
   ],
   "source": [
    "len(foodList)"
   ]
  },
  {
   "cell_type": "code",
   "execution_count": 5,
   "metadata": {},
   "outputs": [
    {
     "data": {
      "text/plain": [
       "': 1 SV'"
      ]
     },
     "execution_count": 5,
     "metadata": {},
     "output_type": "execute_result"
    }
   ],
   "source": [
    "soup.find('ul', class_='nutrition').find('p').get_text()\n"
   ]
  },
  {
   "cell_type": "code",
   "execution_count": 6,
   "metadata": {},
   "outputs": [],
   "source": [
    "descriptionList = []\n",
    "for EachPart in soup.select('ul[class= \"nutrition\"]' ):\n",
    "    descriptionList.append(EachPart.find('p').get_text().partition('\\n')[0])"
   ]
  },
  {
   "cell_type": "code",
   "execution_count": 7,
   "metadata": {},
   "outputs": [],
   "source": [
    "caloriesList = []\n",
    "for EachPart in soup.select('ul[class= \"nutrition\"]' ):\n",
    "    for i in EachPart.select('p:nth-child(4)'):\n",
    "        caloriesList.append(i.text[2:])"
   ]
  },
  {
   "cell_type": "code",
   "execution_count": 32,
   "metadata": {},
   "outputs": [
    {
     "data": {
      "text/plain": [
       "431"
      ]
     },
     "execution_count": 32,
     "metadata": {},
     "output_type": "execute_result"
    }
   ],
   "source": [
    "len(caloriesList)"
   ]
  },
  {
   "cell_type": "code",
   "execution_count": 8,
   "metadata": {},
   "outputs": [],
   "source": [
    "fatList = []\n",
    "for EachPart in soup.select('ul[class= \"nutrition\"]' ):\n",
    "    for i in EachPart.select('p:nth-child(6)'):\n",
    "        fatList.append(i.text[2:])"
   ]
  },
  {
   "cell_type": "code",
   "execution_count": 9,
   "metadata": {},
   "outputs": [],
   "source": [
    "carbList = []\n",
    "for EachPart in soup.select('ul[class= \"nutrition\"]' ):\n",
    "    for i in EachPart.select('p:nth-child(8)'):\n",
    "        carbList.append(i.text[2:])"
   ]
  },
  {
   "cell_type": "code",
   "execution_count": 10,
   "metadata": {},
   "outputs": [],
   "source": [
    "proteinList = []\n",
    "for EachPart in soup.select('ul[class= \"nutrition\"]' ):\n",
    "    for i in EachPart.select('p:nth-child(10)'):\n",
    "        proteinList.append((i.text[2:]))"
   ]
  },
  {
   "cell_type": "code",
   "execution_count": 34,
   "metadata": {},
   "outputs": [],
   "source": [
    "allergensList = []\n",
    "for EachPart in soup.select('ul[class= \"nutrition\"]'):\n",
    "    if(EachPart.select('p:nth-child(12)')):\n",
    "        for i in EachPart.select('p:nth-child(12)'):\n",
    "            allergensList.append(i.text[0:])\n",
    "    else:\n",
    "        allergensList.append(\"NA\")\n",
    "# there is no \": \" before the text, hence start from 0th char"
   ]
  },
  {
   "cell_type": "code",
   "execution_count": 35,
   "metadata": {},
   "outputs": [
    {
     "data": {
      "text/plain": [
       "431"
      ]
     },
     "execution_count": 35,
     "metadata": {},
     "output_type": "execute_result"
    }
   ],
   "source": [
    "len(allergensList)"
   ]
  },
  {
   "cell_type": "code",
   "execution_count": 12,
   "metadata": {},
   "outputs": [],
   "source": [
    "def stringtoFloat(x):\n",
    "    for i in range(len(x)):\n",
    "        if x[i] == 'N/A':\n",
    "            x[i] = np.nan\n",
    "        else:\n",
    "            x[i]=float(x[i])\n",
    "    return x"
   ]
  },
  {
   "cell_type": "code",
   "execution_count": 13,
   "metadata": {
    "scrolled": true
   },
   "outputs": [],
   "source": [
    "caloriesList = stringtoFloat(caloriesList)\n",
    "fatList = stringtoFloat(fatList)\n",
    "carbList = stringtoFloat(carbList)\n",
    "proteinList = stringtoFloat(proteinList)"
   ]
  },
  {
   "cell_type": "code",
   "execution_count": 36,
   "metadata": {},
   "outputs": [],
   "source": [
    "d = {'Food':foodList,'Description':descriptionList,'Calories':caloriesList, 'Fat':fatList, 'Protein':proteinList, 'Carbs':carbList, 'Allergens':allergensList}\n",
    "Tercero = pd.DataFrame(d)\n"
   ]
  },
  {
   "cell_type": "code",
   "execution_count": 37,
   "metadata": {},
   "outputs": [
    {
     "data": {
      "text/html": [
       "<div>\n",
       "<style scoped>\n",
       "    .dataframe tbody tr th:only-of-type {\n",
       "        vertical-align: middle;\n",
       "    }\n",
       "\n",
       "    .dataframe tbody tr th {\n",
       "        vertical-align: top;\n",
       "    }\n",
       "\n",
       "    .dataframe thead th {\n",
       "        text-align: right;\n",
       "    }\n",
       "</style>\n",
       "<table border=\"1\" class=\"dataframe\">\n",
       "  <thead>\n",
       "    <tr style=\"text-align: right;\">\n",
       "      <th></th>\n",
       "      <th>Food</th>\n",
       "      <th>Description</th>\n",
       "      <th>Calories</th>\n",
       "      <th>Fat</th>\n",
       "      <th>Protein</th>\n",
       "      <th>Carbs</th>\n",
       "      <th>Allergens</th>\n",
       "    </tr>\n",
       "  </thead>\n",
       "  <tbody>\n",
       "    <tr>\n",
       "      <th>0</th>\n",
       "      <td>French Toast</td>\n",
       "      <td>: 1 SV</td>\n",
       "      <td>589.38</td>\n",
       "      <td>28.98</td>\n",
       "      <td>15.86</td>\n",
       "      <td>60.73</td>\n",
       "      <td>Dairy/Egg/Gluten/Soy/Soybean Oil/Wheat</td>\n",
       "    </tr>\n",
       "    <tr>\n",
       "      <th>1</th>\n",
       "      <td>Turkey Sausage Patties</td>\n",
       "      <td>Griddled turkey sausage patty</td>\n",
       "      <td>100.80</td>\n",
       "      <td>6.30</td>\n",
       "      <td>8.82</td>\n",
       "      <td>0.00</td>\n",
       "      <td>No Major Allergens</td>\n",
       "    </tr>\n",
       "    <tr>\n",
       "      <th>2</th>\n",
       "      <td>Scrambled Eggs</td>\n",
       "      <td>Softly scrambled cage-free eggs</td>\n",
       "      <td>131.74</td>\n",
       "      <td>8.95</td>\n",
       "      <td>11.11</td>\n",
       "      <td>0.00</td>\n",
       "      <td>Egg</td>\n",
       "    </tr>\n",
       "    <tr>\n",
       "      <th>3</th>\n",
       "      <td>Fries Wedges Spicy</td>\n",
       "      <td>Crispy-fried and seasoned potato wedges</td>\n",
       "      <td>217.89</td>\n",
       "      <td>15.31</td>\n",
       "      <td>1.71</td>\n",
       "      <td>18.34</td>\n",
       "      <td>*Ingredient prepared in a fryer that`s not all...</td>\n",
       "    </tr>\n",
       "    <tr>\n",
       "      <th>4</th>\n",
       "      <td>Fiesta Scrambler</td>\n",
       "      <td>Softly scrambled cage-free eggs with salsa, ch...</td>\n",
       "      <td>95.10</td>\n",
       "      <td>5.18</td>\n",
       "      <td>10.15</td>\n",
       "      <td>0.78</td>\n",
       "      <td>Egg/Dairy</td>\n",
       "    </tr>\n",
       "    <tr>\n",
       "      <th>...</th>\n",
       "      <td>...</td>\n",
       "      <td>...</td>\n",
       "      <td>...</td>\n",
       "      <td>...</td>\n",
       "      <td>...</td>\n",
       "      <td>...</td>\n",
       "      <td>...</td>\n",
       "    </tr>\n",
       "    <tr>\n",
       "      <th>426</th>\n",
       "      <td>Muhammara</td>\n",
       "      <td>A Middle Eastern spread made with roasted pepp...</td>\n",
       "      <td>82.85</td>\n",
       "      <td>6.13</td>\n",
       "      <td>1.06</td>\n",
       "      <td>7.00</td>\n",
       "      <td>Gluten/Wheat/Tree Nuts</td>\n",
       "    </tr>\n",
       "    <tr>\n",
       "      <th>427</th>\n",
       "      <td>Black Bean Dip</td>\n",
       "      <td>Flavor-packed bean spread with tomatoes, onion...</td>\n",
       "      <td>30.47</td>\n",
       "      <td>1.04</td>\n",
       "      <td>1.44</td>\n",
       "      <td>4.09</td>\n",
       "      <td>NA</td>\n",
       "    </tr>\n",
       "    <tr>\n",
       "      <th>428</th>\n",
       "      <td>Tuxedo Truffle Mousse Cake</td>\n",
       "      <td>Per manufacturer, may contain peanuts and tree...</td>\n",
       "      <td>403.20</td>\n",
       "      <td>26.88</td>\n",
       "      <td>5.38</td>\n",
       "      <td>38.98</td>\n",
       "      <td>Alcohol/Dairy/Egg/Gluten/Soy/Wheat</td>\n",
       "    </tr>\n",
       "    <tr>\n",
       "      <th>429</th>\n",
       "      <td>Oatmeal Cookie</td>\n",
       "      <td>Produced in a facility that also uses dairy, e...</td>\n",
       "      <td>360.00</td>\n",
       "      <td>14.00</td>\n",
       "      <td>6.00</td>\n",
       "      <td>52.00</td>\n",
       "      <td>Alcohol [vanilla extract]/Egg/Gluten/Soybean O...</td>\n",
       "    </tr>\n",
       "    <tr>\n",
       "      <th>430</th>\n",
       "      <td>Vegan Lemon Drop Cookie</td>\n",
       "      <td>: 1 cookie</td>\n",
       "      <td>157.00</td>\n",
       "      <td>10.00</td>\n",
       "      <td>2.00</td>\n",
       "      <td>37.00</td>\n",
       "      <td>Alcohol [vanilla extract]/Gluten/Wheat</td>\n",
       "    </tr>\n",
       "  </tbody>\n",
       "</table>\n",
       "<p>431 rows × 7 columns</p>\n",
       "</div>"
      ],
      "text/plain": [
       "                           Food  \\\n",
       "0                  French Toast   \n",
       "1        Turkey Sausage Patties   \n",
       "2                Scrambled Eggs   \n",
       "3            Fries Wedges Spicy   \n",
       "4              Fiesta Scrambler   \n",
       "..                          ...   \n",
       "426                   Muhammara   \n",
       "427              Black Bean Dip   \n",
       "428  Tuxedo Truffle Mousse Cake   \n",
       "429              Oatmeal Cookie   \n",
       "430     Vegan Lemon Drop Cookie   \n",
       "\n",
       "                                           Description  Calories    Fat  \\\n",
       "0                                               : 1 SV    589.38  28.98   \n",
       "1                        Griddled turkey sausage patty    100.80   6.30   \n",
       "2                      Softly scrambled cage-free eggs    131.74   8.95   \n",
       "3              Crispy-fried and seasoned potato wedges    217.89  15.31   \n",
       "4    Softly scrambled cage-free eggs with salsa, ch...     95.10   5.18   \n",
       "..                                                 ...       ...    ...   \n",
       "426  A Middle Eastern spread made with roasted pepp...     82.85   6.13   \n",
       "427  Flavor-packed bean spread with tomatoes, onion...     30.47   1.04   \n",
       "428  Per manufacturer, may contain peanuts and tree...    403.20  26.88   \n",
       "429  Produced in a facility that also uses dairy, e...    360.00  14.00   \n",
       "430                                         : 1 cookie    157.00  10.00   \n",
       "\n",
       "     Protein  Carbs                                          Allergens  \n",
       "0      15.86  60.73             Dairy/Egg/Gluten/Soy/Soybean Oil/Wheat  \n",
       "1       8.82   0.00                                 No Major Allergens  \n",
       "2      11.11   0.00                                                Egg  \n",
       "3       1.71  18.34  *Ingredient prepared in a fryer that`s not all...  \n",
       "4      10.15   0.78                                          Egg/Dairy  \n",
       "..       ...    ...                                                ...  \n",
       "426     1.06   7.00                             Gluten/Wheat/Tree Nuts  \n",
       "427     1.44   4.09                                                 NA  \n",
       "428     5.38  38.98                 Alcohol/Dairy/Egg/Gluten/Soy/Wheat  \n",
       "429     6.00  52.00  Alcohol [vanilla extract]/Egg/Gluten/Soybean O...  \n",
       "430     2.00  37.00             Alcohol [vanilla extract]/Gluten/Wheat  \n",
       "\n",
       "[431 rows x 7 columns]"
      ]
     },
     "execution_count": 37,
     "metadata": {},
     "output_type": "execute_result"
    }
   ],
   "source": [
    "Tercero"
   ]
  },
  {
   "cell_type": "code",
   "execution_count": 27,
   "metadata": {},
   "outputs": [
    {
     "data": {
      "text/plain": [
       "<pandas.core.groupby.generic.DataFrameGroupBy object at 0x000001FC6E31FC40>"
      ]
     },
     "execution_count": 27,
     "metadata": {},
     "output_type": "execute_result"
    }
   ],
   "source": [
    "# Calorie Calculator\n",
    "# calorieCalc = Tercero.groupby(['Food', 'Calories'])\n",
    "# calorieCalc"
   ]
  }
 ],
 "metadata": {
  "kernelspec": {
   "display_name": "Python 3 (ipykernel)",
   "language": "python",
   "name": "python3"
  },
  "language_info": {
   "codemirror_mode": {
    "name": "ipython",
    "version": 3
   },
   "file_extension": ".py",
   "mimetype": "text/x-python",
   "name": "python",
   "nbconvert_exporter": "python",
   "pygments_lexer": "ipython3",
   "version": "3.9.1"
  }
 },
 "nbformat": 4,
 "nbformat_minor": 4
}
