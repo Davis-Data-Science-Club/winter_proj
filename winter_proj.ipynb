{
 "cells": [
  {
   "cell_type": "markdown",
   "metadata": {},
   "source": [
    "This is Mason's Notebook for the Winter Project "
   ]
  },
  {
   "cell_type": "code",
   "execution_count": 237,
   "metadata": {},
   "outputs": [],
   "source": [
    "import json\n",
    "import pandas as pd\n",
    "import numpy as np\n",
    "from bs4 import BeautifulSoup\n",
    "import requests\n"
   ]
  },
  {
   "cell_type": "code",
   "execution_count": 238,
   "metadata": {},
   "outputs": [],
   "source": [
    "html_text = requests.get('https://housing.ucdavis.edu/dining/menus/dining-commons/tercero/').text"
   ]
  },
  {
   "cell_type": "code",
   "execution_count": 112,
   "metadata": {},
   "outputs": [],
   "source": [
    "soup = BeautifulSoup(html_text, 'lxml')\n",
    "foodList= []\n",
    "for EachPart in soup.select('li[class*= \"trigger\"]' ):\n",
    "    foodList.append(EachPart.get_text().partition('\\n')[0])"
   ]
  },
  {
   "cell_type": "code",
   "execution_count": 114,
   "metadata": {},
   "outputs": [
    {
     "data": {
      "text/plain": [
       "441"
      ]
     },
     "execution_count": 114,
     "metadata": {},
     "output_type": "execute_result"
    }
   ],
   "source": [
    "len(foodList)"
   ]
  },
  {
   "cell_type": "code",
   "execution_count": 100,
   "metadata": {},
   "outputs": [
    {
     "data": {
      "text/plain": [
       "'A delicious french toast '"
      ]
     },
     "execution_count": 100,
     "metadata": {},
     "output_type": "execute_result"
    }
   ],
   "source": [
    "soup.find('ul', class_='nutrition').find('p').get_text()\n"
   ]
  },
  {
   "cell_type": "code",
   "execution_count": 130,
   "metadata": {},
   "outputs": [],
   "source": [
    "descriptionList = []\n",
    "for EachPart in soup.select('ul[class= \"nutrition\"]' ):\n",
    "    descriptionList.append(EachPart.find('p').get_text().partition('\\n')[0])"
   ]
  },
  {
   "cell_type": "code",
   "execution_count": 167,
   "metadata": {},
   "outputs": [],
   "source": [
    "caloriesList = []\n",
    "for EachPart in soup.select('ul[class= \"nutrition\"]' ):\n",
    "    for i in EachPart.select('p:nth-child(4)'):\n",
    "        caloriesList.append(i.text[2:])"
   ]
  },
  {
   "cell_type": "code",
   "execution_count": 169,
   "metadata": {},
   "outputs": [],
   "source": [
    "fatList = []\n",
    "for EachPart in soup.select('ul[class= \"nutrition\"]' ):\n",
    "    for i in EachPart.select('p:nth-child(6)'):\n",
    "        fatList.append(i.text[2:])"
   ]
  },
  {
   "cell_type": "code",
   "execution_count": 170,
   "metadata": {},
   "outputs": [],
   "source": [
    "carbList = []\n",
    "for EachPart in soup.select('ul[class= \"nutrition\"]' ):\n",
    "    for i in EachPart.select('p:nth-child(8)'):\n",
    "        carbList.append(i.text[2:])"
   ]
  },
  {
   "cell_type": "code",
   "execution_count": 184,
   "metadata": {},
   "outputs": [],
   "source": [
    "proteinList = []\n",
    "for EachPart in soup.select('ul[class= \"nutrition\"]' ):\n",
    "    for i in EachPart.select('p:nth-child(10)'):\n",
    "        proteinList.append((i.text[2:]))"
   ]
  },
  {
   "cell_type": "code",
   "execution_count": 218,
   "metadata": {},
   "outputs": [],
   "source": [
    "def stringtoFloat(x):\n",
    "    for i in range(len(x)):\n",
    "        if x[i] == 'N/A':\n",
    "            x[i] = np.nan\n",
    "        else:\n",
    "            x[i]=float(x[i])\n",
    "    return x"
   ]
  },
  {
   "cell_type": "code",
   "execution_count": 224,
   "metadata": {
    "scrolled": true
   },
   "outputs": [],
   "source": [
    "caloriesList = stringtoFloat(caloriesList)\n",
    "fatList = stringtoFloat(fatList)\n",
    "carbList = stringtoFloat(carbList)\n",
    "proteinList = stringtoFloat(proteinList)"
   ]
  },
  {
   "cell_type": "code",
   "execution_count": 236,
   "metadata": {},
   "outputs": [
    {
     "data": {
      "text/html": [
       "<div>\n",
       "<style scoped>\n",
       "    .dataframe tbody tr th:only-of-type {\n",
       "        vertical-align: middle;\n",
       "    }\n",
       "\n",
       "    .dataframe tbody tr th {\n",
       "        vertical-align: top;\n",
       "    }\n",
       "\n",
       "    .dataframe thead th {\n",
       "        text-align: right;\n",
       "    }\n",
       "</style>\n",
       "<table border=\"1\" class=\"dataframe\">\n",
       "  <thead>\n",
       "    <tr style=\"text-align: right;\">\n",
       "      <th></th>\n",
       "      <th>Food</th>\n",
       "      <th>Description</th>\n",
       "      <th>Calories</th>\n",
       "      <th>Fat</th>\n",
       "      <th>Protein</th>\n",
       "      <th>Carbs</th>\n",
       "    </tr>\n",
       "  </thead>\n",
       "  <tbody>\n",
       "    <tr>\n",
       "      <th>0</th>\n",
       "      <td>French Toast</td>\n",
       "      <td>A delicious french toast</td>\n",
       "      <td>222.64</td>\n",
       "      <td>6.11</td>\n",
       "      <td>3.16</td>\n",
       "      <td>37.86</td>\n",
       "    </tr>\n",
       "    <tr>\n",
       "      <th>1</th>\n",
       "      <td>Pork Link Sausage</td>\n",
       "      <td>Traditional pork sausage with a touch of fenne...</td>\n",
       "      <td>335.44</td>\n",
       "      <td>32.15</td>\n",
       "      <td>8.38</td>\n",
       "      <td>1.40</td>\n",
       "    </tr>\n",
       "    <tr>\n",
       "      <th>2</th>\n",
       "      <td>Scrambled Eggs</td>\n",
       "      <td>Softly scrambled cage-free eggs</td>\n",
       "      <td>129.10</td>\n",
       "      <td>8.77</td>\n",
       "      <td>10.89</td>\n",
       "      <td>0.00</td>\n",
       "    </tr>\n",
       "    <tr>\n",
       "      <th>3</th>\n",
       "      <td>Deep Fried Diced Hash Browns</td>\n",
       "      <td>Savory diced potatoes deep fried until golden ...</td>\n",
       "      <td>160.43</td>\n",
       "      <td>9.90</td>\n",
       "      <td>1.33</td>\n",
       "      <td>15.32</td>\n",
       "    </tr>\n",
       "    <tr>\n",
       "      <th>4</th>\n",
       "      <td>Soyrizo Tofu Hash</td>\n",
       "      <td>A delicious mix of soyrizo, tofu (OR), fried p...</td>\n",
       "      <td>385.35</td>\n",
       "      <td>25.40</td>\n",
       "      <td>9.51</td>\n",
       "      <td>32.44</td>\n",
       "    </tr>\n",
       "    <tr>\n",
       "      <th>...</th>\n",
       "      <td>...</td>\n",
       "      <td>...</td>\n",
       "      <td>...</td>\n",
       "      <td>...</td>\n",
       "      <td>...</td>\n",
       "      <td>...</td>\n",
       "    </tr>\n",
       "    <tr>\n",
       "      <th>436</th>\n",
       "      <td>Hummus</td>\n",
       "      <td>Garbanzo beans blended with olive oil, lemon j...</td>\n",
       "      <td>37.29</td>\n",
       "      <td>1.82</td>\n",
       "      <td>1.59</td>\n",
       "      <td>3.97</td>\n",
       "    </tr>\n",
       "    <tr>\n",
       "      <th>437</th>\n",
       "      <td>White Bean Dip</td>\n",
       "      <td>Pureed white beans with canola and olive oil, ...</td>\n",
       "      <td>22.67</td>\n",
       "      <td>0.75</td>\n",
       "      <td>0.97</td>\n",
       "      <td>2.95</td>\n",
       "    </tr>\n",
       "    <tr>\n",
       "      <th>438</th>\n",
       "      <td>Tuxedo Truffle Mousse Cake</td>\n",
       "      <td>Per manufacturer, may contain peanuts and tree...</td>\n",
       "      <td>403.20</td>\n",
       "      <td>26.88</td>\n",
       "      <td>5.38</td>\n",
       "      <td>38.98</td>\n",
       "    </tr>\n",
       "    <tr>\n",
       "      <th>439</th>\n",
       "      <td>Oatmeal Cookie</td>\n",
       "      <td>Produced in a facility that also uses dairy, e...</td>\n",
       "      <td>360.00</td>\n",
       "      <td>14.00</td>\n",
       "      <td>6.00</td>\n",
       "      <td>52.00</td>\n",
       "    </tr>\n",
       "    <tr>\n",
       "      <th>440</th>\n",
       "      <td>Vegan Chocolate Chip Cookie</td>\n",
       "      <td>: 1 cookie</td>\n",
       "      <td>190.00</td>\n",
       "      <td>11.00</td>\n",
       "      <td>2.30</td>\n",
       "      <td>38.00</td>\n",
       "    </tr>\n",
       "  </tbody>\n",
       "</table>\n",
       "<p>441 rows × 6 columns</p>\n",
       "</div>"
      ],
      "text/plain": [
       "                             Food  \\\n",
       "0                    French Toast   \n",
       "1               Pork Link Sausage   \n",
       "2                  Scrambled Eggs   \n",
       "3    Deep Fried Diced Hash Browns   \n",
       "4               Soyrizo Tofu Hash   \n",
       "..                            ...   \n",
       "436                        Hummus   \n",
       "437                White Bean Dip   \n",
       "438    Tuxedo Truffle Mousse Cake   \n",
       "439                Oatmeal Cookie   \n",
       "440   Vegan Chocolate Chip Cookie   \n",
       "\n",
       "                                           Description  Calories    Fat  \\\n",
       "0                            A delicious french toast     222.64   6.11   \n",
       "1    Traditional pork sausage with a touch of fenne...    335.44  32.15   \n",
       "2                      Softly scrambled cage-free eggs    129.10   8.77   \n",
       "3    Savory diced potatoes deep fried until golden ...    160.43   9.90   \n",
       "4    A delicious mix of soyrizo, tofu (OR), fried p...    385.35  25.40   \n",
       "..                                                 ...       ...    ...   \n",
       "436  Garbanzo beans blended with olive oil, lemon j...     37.29   1.82   \n",
       "437  Pureed white beans with canola and olive oil, ...     22.67   0.75   \n",
       "438  Per manufacturer, may contain peanuts and tree...    403.20  26.88   \n",
       "439  Produced in a facility that also uses dairy, e...    360.00  14.00   \n",
       "440                                         : 1 cookie    190.00  11.00   \n",
       "\n",
       "     Protein  Carbs  \n",
       "0       3.16  37.86  \n",
       "1       8.38   1.40  \n",
       "2      10.89   0.00  \n",
       "3       1.33  15.32  \n",
       "4       9.51  32.44  \n",
       "..       ...    ...  \n",
       "436     1.59   3.97  \n",
       "437     0.97   2.95  \n",
       "438     5.38  38.98  \n",
       "439     6.00  52.00  \n",
       "440     2.30  38.00  \n",
       "\n",
       "[441 rows x 6 columns]"
      ]
     },
     "execution_count": 236,
     "metadata": {},
     "output_type": "execute_result"
    }
   ],
   "source": [
    "d = {'Food':foodList,'Description':descriptionList,'Calories':caloriesList, 'Fat':fatList, 'Protein':proteinList, 'Carbs':carbList}\n",
    "pd.DataFrame(d)\n"
   ]
  }
 ],
 "metadata": {
  "kernelspec": {
   "display_name": "Python 3",
   "language": "python",
   "name": "python3"
  },
  "language_info": {
   "codemirror_mode": {
    "name": "ipython",
    "version": 3
   },
   "file_extension": ".py",
   "mimetype": "text/x-python",
   "name": "python",
   "nbconvert_exporter": "python",
   "pygments_lexer": "ipython3",
   "version": "3.8.8"
  }
 },
 "nbformat": 4,
 "nbformat_minor": 4
}
